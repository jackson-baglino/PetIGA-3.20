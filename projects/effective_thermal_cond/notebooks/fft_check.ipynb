{
 "cells": [
  {
   "cell_type": "code",
   "execution_count": null,
   "id": "3e419a6c",
   "metadata": {},
   "outputs": [],
   "source": [
    "# --- 1. imports ------------------------------------\n",
    "import numpy as np\n",
    "import matplotlib.pyplot as plt\n",
    "from numpy.fft import fft2, ifft2\n",
    "from scipy.interpolate import griddata, RegularGridInterpolator\n",
    "from numpy.polynomial.legendre import leggauss\n",
    "import cmocean\n",
    "import os\n",
    "\n"
   ]
  },
  {
   "cell_type": "code",
   "execution_count": null,
   "id": "7d03ac6f",
   "metadata": {},
   "outputs": [],
   "source": [
    "# --- 2. constants and domain ------------------------\n",
    "K_ICE = 2.29\n",
    "K_AIR = 0.02\n",
    "\n",
    "folder = \"ThermalSim_homog_2025-05-14__11.01.36\"\n",
    "base   = f\"../outputs/homog/{folder}\"\n",
    "Nx, Ny = 275, 275\n",
    "Lx = Ly = 0.5e-3\n",
    "\n",
    "dx = Lx/(Nx-1)\n",
    "dy = Ly/(Ny-1)\n"
   ]
  },
  {
   "cell_type": "code",
   "execution_count": null,
   "id": "bd470084",
   "metadata": {},
   "outputs": [],
   "source": [
    "# --- 3. ------------------------\n"
   ]
  }
 ],
 "metadata": {
  "kernelspec": {
   "display_name": "venv_EffK",
   "language": "python",
   "name": "python3"
  },
  "language_info": {
   "codemirror_mode": {
    "name": "ipython",
    "version": 3
   },
   "file_extension": ".py",
   "mimetype": "text/x-python",
   "name": "python",
   "nbconvert_exporter": "python",
   "pygments_lexer": "ipython3",
   "version": "3.9.22"
  }
 },
 "nbformat": 4,
 "nbformat_minor": 5
}
